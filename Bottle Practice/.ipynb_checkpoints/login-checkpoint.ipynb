{
 "cells": [
  {
   "cell_type": "code",
   "execution_count": 1,
   "metadata": {},
   "outputs": [],
   "source": [
    "from bottle import Bottle, run, template, route\n",
    "from bottle import get, post, request # or route\n"
   ]
  },
  {
   "cell_type": "code",
   "execution_count": 2,
   "metadata": {},
   "outputs": [],
   "source": [
    "@get('/login') # or @route('/login')\n",
    "def login():\n",
    "    return '''\n",
    "        <form action=\"/login\" method=\"post\">\n",
    "            Username: <input name=\"username\" type=\"text\" />\n",
    "            Password: <input name=\"password\" type=\"password\" />\n",
    "            <input value=\"Login\" type=\"submit\" />\n",
    "        </form>\n",
    "    '''\n",
    "\n",
    "@post('/login') # or @route('/login', method='POST')\n",
    "def do_login():\n",
    "    username = request.forms.get('username')\n",
    "    password = request.forms.get('password')\n",
    "    if username == \"a\":\n",
    "        return \"<p>Your login information was correct.</p>\"\n",
    "    else:\n",
    "        return \"<p>Login failed.</p>\""
   ]
  },
  {
   "cell_type": "code",
   "execution_count": null,
   "metadata": {},
   "outputs": [
    {
     "name": "stderr",
     "output_type": "stream",
     "text": [
      "Bottle v0.12.13 server starting up (using WSGIRefServer())...\n",
      "Listening on http://localhost:8080/\n",
      "Hit Ctrl-C to quit.\n",
      "\n",
      "127.0.0.1 - - [26/Nov/2018 13:27:47] \"GET /login HTTP/1.1\" 200 240\n",
      "Traceback (most recent call last):\n",
      "  File \"/anaconda3/lib/python3.7/site-packages/bottle.py\", line 862, in _handle\n",
      "    return route.call(**args)\n",
      "  File \"/anaconda3/lib/python3.7/site-packages/bottle.py\", line 1740, in wrapper\n",
      "    rv = callback(*a, **ka)\n",
      "  File \"<ipython-input-2-2bd557362e1f>\", line 15, in do_login\n",
      "    if username == a:\n",
      "NameError: name 'a' is not defined\n",
      "127.0.0.1 - - [26/Nov/2018 13:27:52] \"POST /login HTTP/1.1\" 500 746\n",
      "127.0.0.1 - - [26/Nov/2018 13:27:52] \"GET /favicon.ico HTTP/1.1\" 404 742\n",
      "Traceback (most recent call last):\n",
      "  File \"/anaconda3/lib/python3.7/site-packages/bottle.py\", line 862, in _handle\n",
      "    return route.call(**args)\n",
      "  File \"/anaconda3/lib/python3.7/site-packages/bottle.py\", line 1740, in wrapper\n",
      "    rv = callback(*a, **ka)\n",
      "  File \"<ipython-input-2-2bd557362e1f>\", line 15, in do_login\n",
      "    if username == a:\n",
      "NameError: name 'a' is not defined\n",
      "127.0.0.1 - - [26/Nov/2018 13:28:01] \"POST /login HTTP/1.1\" 500 746\n",
      "127.0.0.1 - - [26/Nov/2018 13:28:01] \"GET /favicon.ico HTTP/1.1\" 404 742\n"
     ]
    }
   ],
   "source": [
    "run(host='localhost', port=8080)"
   ]
  },
  {
   "cell_type": "code",
   "execution_count": null,
   "metadata": {},
   "outputs": [],
   "source": []
  },
  {
   "cell_type": "code",
   "execution_count": null,
   "metadata": {},
   "outputs": [],
   "source": []
  },
  {
   "cell_type": "code",
   "execution_count": null,
   "metadata": {},
   "outputs": [],
   "source": []
  },
  {
   "cell_type": "code",
   "execution_count": null,
   "metadata": {},
   "outputs": [],
   "source": []
  },
  {
   "cell_type": "code",
   "execution_count": null,
   "metadata": {},
   "outputs": [],
   "source": []
  },
  {
   "cell_type": "code",
   "execution_count": null,
   "metadata": {},
   "outputs": [],
   "source": []
  }
 ],
 "metadata": {
  "kernelspec": {
   "display_name": "Python 3",
   "language": "python",
   "name": "python3"
  },
  "language_info": {
   "codemirror_mode": {
    "name": "ipython",
    "version": 3
   },
   "file_extension": ".py",
   "mimetype": "text/x-python",
   "name": "python",
   "nbconvert_exporter": "python",
   "pygments_lexer": "ipython3",
   "version": "3.7.0"
  }
 },
 "nbformat": 4,
 "nbformat_minor": 2
}
