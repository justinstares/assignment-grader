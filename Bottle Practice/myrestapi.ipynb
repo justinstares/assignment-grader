{
 "cells": [
  {
   "cell_type": "code",
   "execution_count": 4,
   "metadata": {},
   "outputs": [],
   "source": [
    "import json\n",
    "import bottle\n",
    "from bottle import route, run, request, abort\n",
    "from pymongo import MongoClient\n",
    "\n",
    "connection = MongoClient('localhost', 27017)\n",
    "db = connection.mydatabase"
   ]
  },
  {
   "cell_type": "code",
   "execution_count": 5,
   "metadata": {},
   "outputs": [],
   "source": [
    "@route('/documents', method='PUT')\n",
    "def put_document():\n",
    "    data = request.body.readline()\n",
    "    if not data:\n",
    "        abort(400, 'No data received')\n",
    "    entity = json.loads(data)\n",
    "    if not entity.has_key('_id'):\n",
    "        abort(400, 'No _id specified')\n",
    "    try:\n",
    "        db['documents'].save(entity)\n",
    "    except ValidationError as ve:\n",
    "        abort(400, str(ve))\n",
    "\n",
    "@route('/documents/:id', method=\"GET\")\n",
    "def get_document(id):\n",
    "    entity = db['documents'].find_one({'_id':id})\n",
    "    if not entity:\n",
    "        abort(404, 'No document with id %s' % id)\n",
    "    return entity"
   ]
  },
  {
   "cell_type": "code",
   "execution_count": 7,
   "metadata": {},
   "outputs": [
    {
     "name": "stderr",
     "output_type": "stream",
     "text": [
      "Bottle v0.12.13 server starting up (using WSGIRefServer())...\n",
      "Listening on http://localhost:8080/\n",
      "Hit Ctrl-C to quit.\n",
      "\n"
     ]
    }
   ],
   "source": [
    "run(host='localhost', port=8080)"
   ]
  },
  {
   "cell_type": "code",
   "execution_count": null,
   "metadata": {},
   "outputs": [],
   "source": []
  }
 ],
 "metadata": {
  "kernelspec": {
   "display_name": "Python 3",
   "language": "python",
   "name": "python3"
  },
  "language_info": {
   "codemirror_mode": {
    "name": "ipython",
    "version": 3
   },
   "file_extension": ".py",
   "mimetype": "text/x-python",
   "name": "python",
   "nbconvert_exporter": "python",
   "pygments_lexer": "ipython3",
   "version": "3.6.5"
  }
 },
 "nbformat": 4,
 "nbformat_minor": 2
}
