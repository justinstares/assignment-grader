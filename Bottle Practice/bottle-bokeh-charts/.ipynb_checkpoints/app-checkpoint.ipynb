{
 "cells": [
  {
   "cell_type": "code",
   "execution_count": 7,
   "metadata": {},
   "outputs": [],
   "source": [
    "import os\n",
    "import bottle\n",
    "import random\n",
    "from bottle import route, run, template"
   ]
  },
  {
   "cell_type": "code",
   "execution_count": 8,
   "metadata": {},
   "outputs": [
    {
     "name": "stderr",
     "output_type": "stream",
     "text": [
      "Bottle v0.12.13 server starting up (using WSGIRefServer())...\n",
      "Listening on http://127.0.0.1:8000/\n",
      "Hit Ctrl-C to quit.\n",
      "\n",
      "127.0.0.1 - - [26/Nov/2018 13:39:17] \"GET /15 HTTP/1.1\" 200 168\n",
      "127.0.0.1 - - [26/Nov/2018 13:39:22] \"GET /10 HTTP/1.1\" 200 168\n"
     ]
    }
   ],
   "source": [
    "app = bottle.default_app()\n",
    "\n",
    "TEMPLATE_STRING = \"\"\"\n",
    "<html>\n",
    "    <head>\n",
    "        <title>Bar charts with Bottle and Bokeh</title>\n",
    "    </head>\n",
    "    <body>\n",
    "        <h1>Bugs found over the past {{ bars_count }} days</h1>\n",
    "    </body>\n",
    "</html>\n",
    "\"\"\"\n",
    "\n",
    "@route('/<num_bars:int>')\n",
    "def chart(num_bars):\n",
    "    if num_bars <= 0:\n",
    "        num_bars = 1\n",
    "    return template(TEMPLATE_STRING, bars_count=num_bars)\n",
    "\n",
    "if __name__ == '__main__':\n",
    "    run(host='127.0.0.1', port=8000, debug=False)"
   ]
  },
  {
   "cell_type": "code",
   "execution_count": null,
   "metadata": {},
   "outputs": [],
   "source": []
  },
  {
   "cell_type": "code",
   "execution_count": null,
   "metadata": {},
   "outputs": [],
   "source": []
  }
 ],
 "metadata": {
  "kernelspec": {
   "display_name": "Python 3",
   "language": "python",
   "name": "python3"
  },
  "language_info": {
   "codemirror_mode": {
    "name": "ipython",
    "version": 3
   },
   "file_extension": ".py",
   "mimetype": "text/x-python",
   "name": "python",
   "nbconvert_exporter": "python",
   "pygments_lexer": "ipython3",
   "version": "3.6.5"
  }
 },
 "nbformat": 4,
 "nbformat_minor": 2
}
